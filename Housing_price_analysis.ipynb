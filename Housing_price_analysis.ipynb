{
 "cells": [
  {
   "cell_type": "markdown",
   "metadata": {},
   "source": [
    "# 1. Import required libraries"
   ]
  },
  {
   "cell_type": "code",
   "execution_count": 1,
   "metadata": {},
   "outputs": [
    {
     "name": "stderr",
     "output_type": "stream",
     "text": [
      "Using TensorFlow backend.\n"
     ]
    }
   ],
   "source": [
    "import pandas as pd\n",
    "import matplotlib.pyplot as plt\n",
    "import numpy as np\n",
    "from sklearn.model_selection import train_test_split\n",
    "from util import get_pipeline, run_prediction\n",
    "from keras.applications.vgg16 import VGG16\n",
    "from keras.preprocessing import image\n",
    "from keras.applications.imagenet_utils import preprocess_input\n",
    "from scipy.misc import toimage\n",
    "from sklearn.decomposition import PCA"
   ]
  },
  {
   "cell_type": "markdown",
   "metadata": {},
   "source": [
    "# 2. Load housing data"
   ]
  },
  {
   "cell_type": "code",
   "execution_count": 2,
   "metadata": {},
   "outputs": [
    {
     "data": {
      "text/html": [
       "<div>\n",
       "<style scoped>\n",
       "    .dataframe tbody tr th:only-of-type {\n",
       "        vertical-align: middle;\n",
       "    }\n",
       "\n",
       "    .dataframe tbody tr th {\n",
       "        vertical-align: top;\n",
       "    }\n",
       "\n",
       "    .dataframe thead th {\n",
       "        text-align: right;\n",
       "    }\n",
       "</style>\n",
       "<table border=\"1\" class=\"dataframe\">\n",
       "  <thead>\n",
       "    <tr style=\"text-align: right;\">\n",
       "      <th></th>\n",
       "      <th>bed</th>\n",
       "      <th>bath</th>\n",
       "      <th>sqft</th>\n",
       "      <th>zip</th>\n",
       "      <th>price</th>\n",
       "    </tr>\n",
       "  </thead>\n",
       "  <tbody>\n",
       "    <tr>\n",
       "      <th>0</th>\n",
       "      <td>4</td>\n",
       "      <td>4.0</td>\n",
       "      <td>4053</td>\n",
       "      <td>85255</td>\n",
       "      <td>869500</td>\n",
       "    </tr>\n",
       "    <tr>\n",
       "      <th>1</th>\n",
       "      <td>4</td>\n",
       "      <td>3.0</td>\n",
       "      <td>3343</td>\n",
       "      <td>36372</td>\n",
       "      <td>865200</td>\n",
       "    </tr>\n",
       "    <tr>\n",
       "      <th>2</th>\n",
       "      <td>3</td>\n",
       "      <td>4.0</td>\n",
       "      <td>3923</td>\n",
       "      <td>85266</td>\n",
       "      <td>889000</td>\n",
       "    </tr>\n",
       "    <tr>\n",
       "      <th>3</th>\n",
       "      <td>5</td>\n",
       "      <td>5.0</td>\n",
       "      <td>4022</td>\n",
       "      <td>85262</td>\n",
       "      <td>910000</td>\n",
       "    </tr>\n",
       "    <tr>\n",
       "      <th>4</th>\n",
       "      <td>3</td>\n",
       "      <td>4.0</td>\n",
       "      <td>4116</td>\n",
       "      <td>85266</td>\n",
       "      <td>971226</td>\n",
       "    </tr>\n",
       "  </tbody>\n",
       "</table>\n",
       "</div>"
      ],
      "text/plain": [
       "   bed  bath  sqft    zip   price\n",
       "0    4   4.0  4053  85255  869500\n",
       "1    4   3.0  3343  36372  865200\n",
       "2    3   4.0  3923  85266  889000\n",
       "3    5   5.0  4022  85262  910000\n",
       "4    3   4.0  4116  85266  971226"
      ]
     },
     "execution_count": 2,
     "metadata": {},
     "output_type": "execute_result"
    }
   ],
   "source": [
    "df = pd.read_csv('Dataset\\HousesInfo.txt', delimiter=\" \", header=0)\n",
    "df.head()"
   ]
  },
  {
   "cell_type": "markdown",
   "metadata": {},
   "source": [
    "We will drop `zip` column from the dataset to make the analysis simple. With `zip` we would need to one-hot-encoding this data column. In the actual model implementation, this column is definitely important, however the purpose of this analysis is to see how images can improve the prediction accuracy, therefore we can safely discard `zip` without much influence on the final result."
   ]
  },
  {
   "cell_type": "code",
   "execution_count": 3,
   "metadata": {},
   "outputs": [],
   "source": [
    "data = df[['bed', 'bath', 'sqft', 'price']].copy()"
   ]
  },
  {
   "cell_type": "markdown",
   "metadata": {},
   "source": [
    "The next step is to run prediction to see how well we can predict housing price with the current dataset  \n",
    "For this we split the existing dataset of **535** houses to **80% for training** and **20% for testing**"
   ]
  },
  {
   "cell_type": "markdown",
   "metadata": {},
   "source": [
    "# 3. Predict housing price with XGBRegressor"
   ]
  },
  {
   "cell_type": "markdown",
   "metadata": {},
   "source": [
    "`XGBRegressor` is a decision-tree-based ensemble Machine Learning regression algorithm that uses a gradient boosting framework.\n",
    "unstructured data (images, text, etc.) artificial neural networks tend to outperform all other algorithms or frameworks. However, when it comes to small-to-medium structured/tabular data, decision tree based algorithms are considered best-in-class."
   ]
  },
  {
   "cell_type": "code",
   "execution_count": 4,
   "metadata": {},
   "outputs": [
    {
     "name": "stdout",
     "output_type": "stream",
     "text": [
      "R2: 0.07312235853011728\n",
      "MAE: 234951.6339077103\n"
     ]
    },
    {
     "data": {
      "image/png": "[encoded data removed]",
      "text/plain": [
       "<Figure size 576x576 with 1 Axes>"
      ]
     },
     "metadata": {
      "needs_background": "light"
     },
     "output_type": "display_data"
    }
   ],
   "source": [
    "RANDOM_STATE = 4\n",
    "X = data.drop(['price'], axis=1)\n",
    "y = data[['price']].values.reshape(-1)\n",
    "X_train, X_test, y_train, y_test = train_test_split(X, y, test_size=0.2, random_state=RANDOM_STATE)\n",
    "run_prediction(X_train, X_test, y_train, y_test)"
   ]
  },
  {
   "cell_type": "markdown",
   "metadata": {},
   "source": [
    "An **R2** value of **0.07** indicates that this model has some predictive power, it is better than blindly guessing the average price, albeit not very impressive.  \n",
    "**MAE** of **234,951** means that for each house, the average difference between predicted price and the actual price is **$234,951**.  \n",
    "Now we will see how we can leverage housing images to make a better model"
   ]
  },
  {
   "cell_type": "markdown",
   "metadata": {},
   "source": [
    "# 4. Predict housing price with XGBRegressor and image features"
   ]
  },
  {
   "cell_type": "markdown",
   "metadata": {},
   "source": [
    "## 4.1 Auto image features extraction"
   ]
  },
  {
   "cell_type": "markdown",
   "metadata": {},
   "source": [
    "![House images](images\\dataset.png)"
   ]
  },
  {
   "cell_type": "markdown",
   "metadata": {},
   "source": [
    "  \n",
    "For each house in this dataset, we have 4 images capturing bedroom, bathroom, kitchen and frontal view. All images were scraped from *realtor.com* in 2016. In order to utilize this extra source of information, we will first need to convert images to features, so that it can be consumed by `XGBRegressor` along with other existing features.\n",
    "\n",
    "There are many different ways to achieve this. The approach that I use in this analysis is to do **transfer learning** (illustration below). We start with a **pre-trained** deep convoluted neural network (DCNN) model ([VGG16](https://neurohive.io/en/popular-networks/vgg16/)). VGG16 is a very deep convolutional neural network consisting of many layers of small convolution and pooling filters, followed by a two fully connected layers and a softmax output. We will remove the network's softmax and dense layers, and consume the output from its previous one. \n",
    "\n",
    "The intuition behind this approach is that if a model trained on a large and general enough dataset, this model will effectively serve as a generic model of the visual world. We can then take advantage of these learned feature maps without having to start from scratch training a large model on a large dataset. It is a great solution for this analysis, since we don't have much data to train the model. For actual project implementation, I would suggest re-train the model from scratch with only house images. That way the model can pick up most important features specifically for houses and maximize its performance."
   ]
  },
  {
   "cell_type": "markdown",
   "metadata": {},
   "source": [
    "<img src=\"images\\transfer.png\" width=\"800\">"
   ]
  },
  {
   "cell_type": "markdown",
   "metadata": {},
   "source": [
    "### 4.2 Dimension reduction with Principal Component Analysis (PCA)"
   ]
  },
  {
   "cell_type": "markdown",
   "metadata": {},
   "source": [
    "Since VGG16 is a deep network, it's next-to-last layer contains thousands of features that the network was able to extract from the input image. We simply cannot digest everything and risk overfitting the model. [PCA](https://en.wikipedia.org/wiki/Principal_component_analysis) is a technique that can help us reducing the dimension of the dataset, only retain the most important components that describe the largest possible data variance. For each input image, we will only retain **4 most important components**."
   ]
  },
  {
   "cell_type": "markdown",
   "metadata": {},
   "source": [
    "Illustration of the entire ML pipeline"
   ]
  },
  {
   "cell_type": "markdown",
   "metadata": {},
   "source": [
    "<img src=\"images\\workflow.png\" width=\"800\">"
   ]
  },
  {
   "cell_type": "markdown",
   "metadata": {},
   "source": [
    "Below is the combined code for extracting image features and run PCA to reduce dimension"
   ]
  },
  {
   "cell_type": "code",
   "execution_count": 8,
   "metadata": {},
   "outputs": [],
   "source": [
    "PCA_COMPONENTS = 4\n",
    "IMG_DIM = 256\n",
    "IMG_SHAPE = (IMG_DIM, IMG_DIM, 3)\n",
    "pretrained_model = VGG16(include_top=False, input_shape=IMG_SHAPE, weights='imagenet')\n",
    "img_df = data.copy()\n",
    "\n",
    "for img_type in ['bathroom', 'frontal', 'kitchen', 'bedroom']:\n",
    "    all_features = []\n",
    "    for i in range(1,536):\n",
    "        img = image.load_img(f'Dataset\\\\{i}_{img_type}.jpg', target_size=(IMG_DIM,IMG_DIM))\n",
    "        img = image.img_to_array(img)\n",
    "        img = np.expand_dims(img, axis=0)\n",
    "        img = preprocess_input(img)\n",
    "\n",
    "        features = pretrained_model.predict(img)\n",
    "        all_features.append(features.flatten())\n",
    "\n",
    "    all_features = np.array(all_features)\n",
    "    all_features.shape\n",
    "\n",
    "    # run PCA on all_features to reduce data dimension, keep only the 4 best principal components\n",
    "    pca = PCA(n_components=PCA_COMPONENTS)\n",
    "    transformed_PCA_features = pca.fit_transform(all_features)\n",
    "\n",
    "    # merge into img_df\n",
    "    columns = [img_type + '_PCA_' + str(i) for i in range(1,PCA_COMPONENTS + 1)]\n",
    "    img_df = img_df.join(pd.DataFrame(transformed_PCA_features, columns=columns))"
   ]
  },
  {
   "cell_type": "markdown",
   "metadata": {},
   "source": [
    "Let's have a look at our current dataframe after being augmented with image features"
   ]
  },
  {
   "cell_type": "code",
   "execution_count": 9,
   "metadata": {},
   "outputs": [
    {
     "data": {
      "text/html": [
       "<div>\n",
       "<style scoped>\n",
       "    .dataframe tbody tr th:only-of-type {\n",
       "        vertical-align: middle;\n",
       "    }\n",
       "\n",
       "    .dataframe tbody tr th {\n",
       "        vertical-align: top;\n",
       "    }\n",
       "\n",
       "    .dataframe thead th {\n",
       "        text-align: right;\n",
       "    }\n",
       "</style>\n",
       "<table border=\"1\" class=\"dataframe\">\n",
       "  <thead>\n",
       "    <tr style=\"text-align: right;\">\n",
       "      <th></th>\n",
       "      <th>bed</th>\n",
       "      <th>bath</th>\n",
       "      <th>sqft</th>\n",
       "      <th>price</th>\n",
       "      <th>bathroom_PCA_1</th>\n",
       "      <th>bathroom_PCA_2</th>\n",
       "      <th>bathroom_PCA_3</th>\n",
       "      <th>bathroom_PCA_4</th>\n",
       "      <th>frontal_PCA_1</th>\n",
       "      <th>frontal_PCA_2</th>\n",
       "      <th>frontal_PCA_3</th>\n",
       "      <th>frontal_PCA_4</th>\n",
       "      <th>kitchen_PCA_1</th>\n",
       "      <th>kitchen_PCA_2</th>\n",
       "      <th>kitchen_PCA_3</th>\n",
       "      <th>kitchen_PCA_4</th>\n",
       "      <th>bedroom_PCA_1</th>\n",
       "      <th>bedroom_PCA_2</th>\n",
       "      <th>bedroom_PCA_3</th>\n",
       "      <th>bedroom_PCA_4</th>\n",
       "    </tr>\n",
       "  </thead>\n",
       "  <tbody>\n",
       "    <tr>\n",
       "      <th>0</th>\n",
       "      <td>4</td>\n",
       "      <td>4.0</td>\n",
       "      <td>4053</td>\n",
       "      <td>869500</td>\n",
       "      <td>-123.985809</td>\n",
       "      <td>112.988503</td>\n",
       "      <td>513.249939</td>\n",
       "      <td>-10.683521</td>\n",
       "      <td>144.292297</td>\n",
       "      <td>-98.406685</td>\n",
       "      <td>143.322311</td>\n",
       "      <td>140.646637</td>\n",
       "      <td>570.833618</td>\n",
       "      <td>-310.872620</td>\n",
       "      <td>-131.264145</td>\n",
       "      <td>407.364441</td>\n",
       "      <td>247.217072</td>\n",
       "      <td>-170.809586</td>\n",
       "      <td>-198.912003</td>\n",
       "      <td>-25.895588</td>\n",
       "    </tr>\n",
       "    <tr>\n",
       "      <th>1</th>\n",
       "      <td>4</td>\n",
       "      <td>3.0</td>\n",
       "      <td>3343</td>\n",
       "      <td>865200</td>\n",
       "      <td>-9.219336</td>\n",
       "      <td>-146.844177</td>\n",
       "      <td>312.605499</td>\n",
       "      <td>-20.217607</td>\n",
       "      <td>-408.661957</td>\n",
       "      <td>148.358170</td>\n",
       "      <td>-23.650925</td>\n",
       "      <td>201.932114</td>\n",
       "      <td>199.580322</td>\n",
       "      <td>59.006641</td>\n",
       "      <td>340.210358</td>\n",
       "      <td>66.582390</td>\n",
       "      <td>-37.743237</td>\n",
       "      <td>166.841415</td>\n",
       "      <td>-232.295013</td>\n",
       "      <td>296.814789</td>\n",
       "    </tr>\n",
       "    <tr>\n",
       "      <th>2</th>\n",
       "      <td>3</td>\n",
       "      <td>4.0</td>\n",
       "      <td>3923</td>\n",
       "      <td>889000</td>\n",
       "      <td>402.826538</td>\n",
       "      <td>162.548019</td>\n",
       "      <td>-204.590927</td>\n",
       "      <td>-158.089600</td>\n",
       "      <td>46.158863</td>\n",
       "      <td>-188.568130</td>\n",
       "      <td>-100.434814</td>\n",
       "      <td>305.320282</td>\n",
       "      <td>279.762726</td>\n",
       "      <td>183.252502</td>\n",
       "      <td>399.387878</td>\n",
       "      <td>25.358326</td>\n",
       "      <td>166.174973</td>\n",
       "      <td>-295.138763</td>\n",
       "      <td>-66.873169</td>\n",
       "      <td>46.500446</td>\n",
       "    </tr>\n",
       "    <tr>\n",
       "      <th>3</th>\n",
       "      <td>5</td>\n",
       "      <td>5.0</td>\n",
       "      <td>4022</td>\n",
       "      <td>910000</td>\n",
       "      <td>164.837036</td>\n",
       "      <td>23.223177</td>\n",
       "      <td>164.071640</td>\n",
       "      <td>191.025452</td>\n",
       "      <td>191.047470</td>\n",
       "      <td>-217.287064</td>\n",
       "      <td>28.541739</td>\n",
       "      <td>120.537819</td>\n",
       "      <td>390.484863</td>\n",
       "      <td>-341.260864</td>\n",
       "      <td>-66.230164</td>\n",
       "      <td>59.543221</td>\n",
       "      <td>-375.963379</td>\n",
       "      <td>-231.563049</td>\n",
       "      <td>-81.768845</td>\n",
       "      <td>-293.531342</td>\n",
       "    </tr>\n",
       "    <tr>\n",
       "      <th>4</th>\n",
       "      <td>3</td>\n",
       "      <td>4.0</td>\n",
       "      <td>4116</td>\n",
       "      <td>971226</td>\n",
       "      <td>137.177444</td>\n",
       "      <td>47.761944</td>\n",
       "      <td>-329.874786</td>\n",
       "      <td>447.260406</td>\n",
       "      <td>-401.659973</td>\n",
       "      <td>219.090347</td>\n",
       "      <td>-76.021400</td>\n",
       "      <td>165.897095</td>\n",
       "      <td>408.081818</td>\n",
       "      <td>-190.868256</td>\n",
       "      <td>128.541473</td>\n",
       "      <td>-270.532318</td>\n",
       "      <td>76.951942</td>\n",
       "      <td>-312.354218</td>\n",
       "      <td>-46.921101</td>\n",
       "      <td>-207.709305</td>\n",
       "    </tr>\n",
       "  </tbody>\n",
       "</table>\n",
       "</div>"
      ],
      "text/plain": [
       "   bed  bath  sqft   price  bathroom_PCA_1  bathroom_PCA_2  bathroom_PCA_3  \\\n",
       "0    4   4.0  4053  869500     -123.985809      112.988503      513.249939   \n",
       "1    4   3.0  3343  865200       -9.219336     -146.844177      312.605499   \n",
       "2    3   4.0  3923  889000      402.826538      162.548019     -204.590927   \n",
       "3    5   5.0  4022  910000      164.837036       23.223177      164.071640   \n",
       "4    3   4.0  4116  971226      137.177444       47.761944     -329.874786   \n",
       "\n",
       "   bathroom_PCA_4  frontal_PCA_1  frontal_PCA_2  frontal_PCA_3  frontal_PCA_4  \\\n",
       "0      -10.683521     144.292297     -98.406685     143.322311     140.646637   \n",
       "1      -20.217607    -408.661957     148.358170     -23.650925     201.932114   \n",
       "2     -158.089600      46.158863    -188.568130    -100.434814     305.320282   \n",
       "3      191.025452     191.047470    -217.287064      28.541739     120.537819   \n",
       "4      447.260406    -401.659973     219.090347     -76.021400     165.897095   \n",
       "\n",
       "   kitchen_PCA_1  kitchen_PCA_2  kitchen_PCA_3  kitchen_PCA_4  bedroom_PCA_1  \\\n",
       "0     570.833618    -310.872620    -131.264145     407.364441     247.217072   \n",
       "1     199.580322      59.006641     340.210358      66.582390     -37.743237   \n",
       "2     279.762726     183.252502     399.387878      25.358326     166.174973   \n",
       "3     390.484863    -341.260864     -66.230164      59.543221    -375.963379   \n",
       "4     408.081818    -190.868256     128.541473    -270.532318      76.951942   \n",
       "\n",
       "   bedroom_PCA_2  bedroom_PCA_3  bedroom_PCA_4  \n",
       "0    -170.809586    -198.912003     -25.895588  \n",
       "1     166.841415    -232.295013     296.814789  \n",
       "2    -295.138763     -66.873169      46.500446  \n",
       "3    -231.563049     -81.768845    -293.531342  \n",
       "4    -312.354218     -46.921101    -207.709305  "
      ]
     },
     "execution_count": 9,
     "metadata": {},
     "output_type": "execute_result"
    }
   ],
   "source": [
    "img_df.head()"
   ]
  },
  {
   "cell_type": "markdown",
   "metadata": {},
   "source": [
    "For each house, we have 16 new features (4 principal components for each image on bathroom, frontal, kitchen, bedroom). Note that this dataset only contain 1 image per category, if we have multiple images per category, we just simply need to calculate its mean value.\n",
    "\n",
    "We will again do a 80/20 train/test split and run prediction"
   ]
  },
  {
   "cell_type": "code",
   "execution_count": 10,
   "metadata": {},
   "outputs": [
    {
     "name": "stdout",
     "output_type": "stream",
     "text": [
      "R2: 0.29257578223413083\n",
      "MAE: 219713.19626168226\n"
     ]
    },
    {
     "data": {
      "image/png": "[encoded data removed]",
      "text/plain": [
       "<Figure size 576x576 with 1 Axes>"
      ]
     },
     "metadata": {
      "needs_background": "light"
     },
     "output_type": "display_data"
    }
   ],
   "source": [
    "X_img = img_df.drop(['price'], axis=1)\n",
    "y_img = img_df[['price']].values.reshape(-1)\n",
    "X_img_train, X_img_test, y_img_train, y_img_test = train_test_split(X_img, y_img, test_size=0.2, random_state=RANDOM_STATE)\n",
    "run_prediction(X_img_train, X_img_test, y_img_train, y_img_test)"
   ]
  },
  {
   "cell_type": "markdown",
   "metadata": {},
   "source": [
    "Result is much better this time with R2 increases to 0.292 from 0.073 (**300% increment**) and MAE reduces to 219,713 from 234,951 (**5.3% reduction**). Both performance metrics confirm that utilizing house images can improve the prediction capability of the existing model."
   ]
  },
  {
   "cell_type": "markdown",
   "metadata": {},
   "source": [
    "# 5. Further and beyond"
   ]
  },
  {
   "cell_type": "markdown",
   "metadata": {},
   "source": [
    "This analysis serves as a proof-of-concept that we can utilize house images in improving price prediction accuracy. In summary, the idea is to first automatically extract image features using transfer learning on a pre-trained DCNN model and run PCA to reduce data dimension, then augment the original dataset with new features and run that through a regressor to predict housing price. The techniques that we might use in the actual project, however, are drastically different from those in this toy-example. In this section, we discuss the differences and extra steps that we could consider to maximize model performance."
   ]
  },
  {
   "cell_type": "markdown",
   "metadata": {},
   "source": [
    "### 5.1 Transfer learning vs. training from scratch"
   ]
  },
  {
   "cell_type": "markdown",
   "metadata": {},
   "source": [
    "Transfer learning is a great technique to be used in this analysis, given extreme contrains in time, resource and data. In practice, transfer learning works best where we use a pre-trained model to solve a problem that is similar to the problem the network was originally trained to solve. For example, we can re-use a network that was built to identify dogs to classify dogs and cats. To the best of my knowledge, there is no publicly available DCNN model that were built specifically on a house image dataset. Therefore important features that the network learned from its training could be irrelevant and have little predictive power in assessing house values.\n",
    "\n",
    "If we have lots of house images and computing power is not an issue, I would definitely re-train a DCNN model so it could pick the best features. That way we can maximize model accuracy."
   ]
  },
  {
   "cell_type": "markdown",
   "metadata": {},
   "source": [
    "### 5.2 House image classification"
   ]
  },
  {
   "cell_type": "markdown",
   "metadata": {},
   "source": [
    "Before extracting features, it is crucial to know the context of each image so we can best quantify its impact to housing price. This dataset already provide us with 4 images capturing 4 important aspects of a house. In practice, we would need a classifier that can automate the process. This should be a simple task. Given enough training, DCNNs are known to have achieved human performance in many classification tasks ([reference](https://arxiv.org/pdf/1705.02498.pdf)). Furthermore, we would need to classify images into additional categories as well, like `backyard`, `pool`, `street view`. Those extra information could be helpful for the model."
   ]
  },
  {
   "cell_type": "markdown",
   "metadata": {},
   "source": [
    "<img src=\"images\\classifier.png\" width=\"800\">"
   ]
  },
  {
   "cell_type": "markdown",
   "metadata": {},
   "source": [
    "### 5.3 Model tuning"
   ]
  },
  {
   "cell_type": "markdown",
   "metadata": {},
   "source": [
    "Model tuning is an important step where we improve performance of a selected model by optimizing its hyper parameters. Best set of hyper parameters for the model can be found using techniques like `grid search` or `randomize search`. Normally I would perform a `randomize search` first to narrow down the parameter space, then follow by a `grid search` to get the optimal result. We did not perform model tuning here since it is a time-consuming process. We can tune both DCNN and `XGBRegressor` models."
   ]
  },
  {
   "cell_type": "markdown",
   "metadata": {},
   "source": [
    "### 5.4 Other data sources"
   ]
  },
  {
   "cell_type": "markdown",
   "metadata": {},
   "source": [
    "In order to maximizing predicting accuracy, we can also consider extra sources of information that can assist our model:\n",
    "  * **Satellite images**: contextual information about the surrounding areas was shown to be a valuable information in determining housing prices ([reference](https://vision.ece.ucsb.edu/sites/default/files/publications/bency_wacv_17.pdf))\n",
    "  * **Realtor commentaries**: analysing commetaries using techniques like NLP could reveal hidden information that influence the price\n",
    "  * **Nearby prices**: it is well-known that a value of a house is heavily influenced by nearby prices. It is an important data source and should not be ignored. We can study this data using RNN and LSTM models."
   ]
  },
  {
   "cell_type": "code",
   "execution_count": null,
   "metadata": {},
   "outputs": [],
   "source": []
  }
 ],
 "metadata": {
  "kernelspec": {
   "display_name": "Python 3",
   "language": "python",
   "name": "python3"
  },
  "language_info": {
   "codemirror_mode": {
    "name": "ipython",
    "version": 3
   },
   "file_extension": ".py",
   "mimetype": "text/x-python",
   "name": "python",
   "nbconvert_exporter": "python",
   "pygments_lexer": "ipython3",
   "version": "3.6.8"
  }
 },
 "nbformat": 4,
 "nbformat_minor": 2
}
